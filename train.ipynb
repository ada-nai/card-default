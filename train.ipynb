{
 "cells": [
  {
   "cell_type": "code",
   "execution_count": 3,
   "id": "2a1e17e1",
   "metadata": {},
   "outputs": [],
   "source": [
    "import os\n",
    "\n",
    "import pandas as pd\n",
    "pd.set_option('display.max_columns', None)\n",
    "pd.set_option(\"display.float_format\", lambda x: f'{x:.3f}')\n",
    "\n",
    "import warnings\n",
    "warnings.filterwarnings(\"ignore\")\n",
    "\n",
    "import numpy as np"
   ]
  },
  {
   "cell_type": "code",
   "execution_count": 4,
   "id": "d33604eb",
   "metadata": {},
   "outputs": [],
   "source": [
    "def std_col_names(df):\n",
    "    \"\"\"\n",
    "    - Convert feature names to lower case\n",
    "    \"\"\"\n",
    "    df.columns = df.columns.str.lower().str.strip().str.replace(' ', '_')\n",
    "    return df\n"
   ]
  },
  {
   "cell_type": "code",
   "execution_count": 16,
   "id": "b67f139a",
   "metadata": {},
   "outputs": [
    {
     "data": {
      "text/html": [
       "<div>\n",
       "<style scoped>\n",
       "    .dataframe tbody tr th:only-of-type {\n",
       "        vertical-align: middle;\n",
       "    }\n",
       "\n",
       "    .dataframe tbody tr th {\n",
       "        vertical-align: top;\n",
       "    }\n",
       "\n",
       "    .dataframe thead th {\n",
       "        text-align: right;\n",
       "    }\n",
       "</style>\n",
       "<table border=\"1\" class=\"dataframe\">\n",
       "  <thead>\n",
       "    <tr style=\"text-align: right;\">\n",
       "      <th></th>\n",
       "      <th>customer_id</th>\n",
       "      <th>name</th>\n",
       "      <th>age</th>\n",
       "      <th>gender</th>\n",
       "      <th>owns_car</th>\n",
       "      <th>owns_house</th>\n",
       "      <th>no_of_children</th>\n",
       "      <th>net_yearly_income</th>\n",
       "      <th>no_of_days_employed</th>\n",
       "      <th>occupation_type</th>\n",
       "      <th>total_family_members</th>\n",
       "      <th>migrant_worker</th>\n",
       "      <th>yearly_debt_payments</th>\n",
       "      <th>credit_limit</th>\n",
       "      <th>credit_limit_used(%)</th>\n",
       "      <th>credit_score</th>\n",
       "      <th>prev_defaults</th>\n",
       "      <th>default_in_last_6months</th>\n",
       "      <th>credit_card_default</th>\n",
       "    </tr>\n",
       "  </thead>\n",
       "  <tbody>\n",
       "    <tr>\n",
       "      <th>0</th>\n",
       "      <td>CST_115179</td>\n",
       "      <td>ita Bose</td>\n",
       "      <td>46</td>\n",
       "      <td>F</td>\n",
       "      <td>N</td>\n",
       "      <td>Y</td>\n",
       "      <td>0.000</td>\n",
       "      <td>107934.040</td>\n",
       "      <td>612.000</td>\n",
       "      <td>Unknown</td>\n",
       "      <td>1.000</td>\n",
       "      <td>1.000</td>\n",
       "      <td>33070.280</td>\n",
       "      <td>18690.930</td>\n",
       "      <td>73</td>\n",
       "      <td>544.000</td>\n",
       "      <td>2</td>\n",
       "      <td>1</td>\n",
       "      <td>1</td>\n",
       "    </tr>\n",
       "    <tr>\n",
       "      <th>1</th>\n",
       "      <td>CST_121920</td>\n",
       "      <td>Alper Jonathan</td>\n",
       "      <td>29</td>\n",
       "      <td>M</td>\n",
       "      <td>N</td>\n",
       "      <td>Y</td>\n",
       "      <td>0.000</td>\n",
       "      <td>109862.620</td>\n",
       "      <td>2771.000</td>\n",
       "      <td>Laborers</td>\n",
       "      <td>2.000</td>\n",
       "      <td>0.000</td>\n",
       "      <td>15329.530</td>\n",
       "      <td>37745.190</td>\n",
       "      <td>52</td>\n",
       "      <td>857.000</td>\n",
       "      <td>0</td>\n",
       "      <td>0</td>\n",
       "      <td>0</td>\n",
       "    </tr>\n",
       "    <tr>\n",
       "      <th>2</th>\n",
       "      <td>CST_109330</td>\n",
       "      <td>Umesh Desai</td>\n",
       "      <td>37</td>\n",
       "      <td>M</td>\n",
       "      <td>N</td>\n",
       "      <td>Y</td>\n",
       "      <td>0.000</td>\n",
       "      <td>230153.170</td>\n",
       "      <td>204.000</td>\n",
       "      <td>Laborers</td>\n",
       "      <td>2.000</td>\n",
       "      <td>0.000</td>\n",
       "      <td>48416.600</td>\n",
       "      <td>41598.360</td>\n",
       "      <td>43</td>\n",
       "      <td>650.000</td>\n",
       "      <td>0</td>\n",
       "      <td>0</td>\n",
       "      <td>0</td>\n",
       "    </tr>\n",
       "    <tr>\n",
       "      <th>3</th>\n",
       "      <td>CST_128288</td>\n",
       "      <td>Rie</td>\n",
       "      <td>39</td>\n",
       "      <td>F</td>\n",
       "      <td>N</td>\n",
       "      <td>Y</td>\n",
       "      <td>0.000</td>\n",
       "      <td>122325.820</td>\n",
       "      <td>11941.000</td>\n",
       "      <td>Core staff</td>\n",
       "      <td>2.000</td>\n",
       "      <td>0.000</td>\n",
       "      <td>22574.360</td>\n",
       "      <td>32627.760</td>\n",
       "      <td>20</td>\n",
       "      <td>754.000</td>\n",
       "      <td>0</td>\n",
       "      <td>0</td>\n",
       "      <td>0</td>\n",
       "    </tr>\n",
       "    <tr>\n",
       "      <th>4</th>\n",
       "      <td>CST_151355</td>\n",
       "      <td>McCool</td>\n",
       "      <td>46</td>\n",
       "      <td>M</td>\n",
       "      <td>Y</td>\n",
       "      <td>Y</td>\n",
       "      <td>0.000</td>\n",
       "      <td>387286.000</td>\n",
       "      <td>1459.000</td>\n",
       "      <td>Core staff</td>\n",
       "      <td>1.000</td>\n",
       "      <td>0.000</td>\n",
       "      <td>38282.950</td>\n",
       "      <td>52950.640</td>\n",
       "      <td>75</td>\n",
       "      <td>927.000</td>\n",
       "      <td>0</td>\n",
       "      <td>0</td>\n",
       "      <td>0</td>\n",
       "    </tr>\n",
       "  </tbody>\n",
       "</table>\n",
       "</div>"
      ],
      "text/plain": [
       "  customer_id            name  age gender owns_car owns_house  no_of_children  \\\n",
       "0  CST_115179        ita Bose   46      F        N          Y           0.000   \n",
       "1  CST_121920  Alper Jonathan   29      M        N          Y           0.000   \n",
       "2  CST_109330     Umesh Desai   37      M        N          Y           0.000   \n",
       "3  CST_128288             Rie   39      F        N          Y           0.000   \n",
       "4  CST_151355          McCool   46      M        Y          Y           0.000   \n",
       "\n",
       "   net_yearly_income  no_of_days_employed occupation_type  \\\n",
       "0         107934.040              612.000         Unknown   \n",
       "1         109862.620             2771.000        Laborers   \n",
       "2         230153.170              204.000        Laborers   \n",
       "3         122325.820            11941.000      Core staff   \n",
       "4         387286.000             1459.000      Core staff   \n",
       "\n",
       "   total_family_members  migrant_worker  yearly_debt_payments  credit_limit  \\\n",
       "0                 1.000           1.000             33070.280     18690.930   \n",
       "1                 2.000           0.000             15329.530     37745.190   \n",
       "2                 2.000           0.000             48416.600     41598.360   \n",
       "3                 2.000           0.000             22574.360     32627.760   \n",
       "4                 1.000           0.000             38282.950     52950.640   \n",
       "\n",
       "   credit_limit_used(%)  credit_score  prev_defaults  default_in_last_6months  \\\n",
       "0                    73       544.000              2                        1   \n",
       "1                    52       857.000              0                        0   \n",
       "2                    43       650.000              0                        0   \n",
       "3                    20       754.000              0                        0   \n",
       "4                    75       927.000              0                        0   \n",
       "\n",
       "   credit_card_default  \n",
       "0                    1  \n",
       "1                    0  \n",
       "2                    0  \n",
       "3                    0  \n",
       "4                    0  "
      ]
     },
     "execution_count": 16,
     "metadata": {},
     "output_type": "execute_result"
    }
   ],
   "source": [
    "# Load DF\n",
    "df = std_col_names(pd.read_csv('./data/train.csv'))\n",
    "df.head(5)"
   ]
  },
  {
   "cell_type": "markdown",
   "id": "a9fc1379",
   "metadata": {},
   "source": [
    "Number of missing values for each feature: \n",
    "\n",
    "    owns_car                547  \n",
    "    no_of_children          774    \n",
    "    no_of_days_employed     463  \n",
    "    total_family_members     83  \n",
    "    migrant_worker           87  \n",
    "    yearly_debt_payments     95  \n",
    "    credit_score              8  \n",
    "    dtype: int64"
   ]
  },
  {
   "cell_type": "code",
   "execution_count": 17,
   "id": "df7cb56a",
   "metadata": {},
   "outputs": [],
   "source": [
    "train_df = df.copy()"
   ]
  },
  {
   "cell_type": "code",
   "execution_count": 18,
   "id": "2d753427",
   "metadata": {},
   "outputs": [
    {
     "name": "stdout",
     "output_type": "stream",
     "text": [
      "Initial number of records: 45528\n",
      "Number of records after dropping:45425\n"
     ]
    }
   ],
   "source": [
    "init_len = train_df.shape[0]\n",
    "\n",
    "train_df.dropna(subset=['yearly_debt_payments', 'credit_score'], inplace= True)\n",
    "post_len = train_df.shape[0]\n",
    "\n",
    "print(\n",
    "f'Initial number of records: {init_len}\\nNumber of records after dropping:{post_len}'\n",
    ")"
   ]
  },
  {
   "cell_type": "code",
   "execution_count": 19,
   "id": "e1bcfadb",
   "metadata": {},
   "outputs": [
    {
     "data": {
      "text/plain": [
       "N    29669\n",
       "Y    15209\n",
       "Name: owns_car, dtype: int64"
      ]
     },
     "execution_count": 19,
     "metadata": {},
     "output_type": "execute_result"
    }
   ],
   "source": [
    "train_df['owns_car'].value_counts()"
   ]
  },
  {
   "cell_type": "code",
   "execution_count": 26,
   "id": "6217802a",
   "metadata": {},
   "outputs": [],
   "source": [
    "train_df['owns_car'].fillna(\"N\", inplace= True)\n",
    "train_df.fillna(0, inplace= True)"
   ]
  },
  {
   "cell_type": "code",
   "execution_count": 29,
   "id": "98f9aaa7",
   "metadata": {},
   "outputs": [],
   "source": [
    "no_null_check = train_df.columns[train_df.isnull().any()].to_list() == []\n",
    "assert no_null_check == True"
   ]
  },
  {
   "cell_type": "code",
   "execution_count": 30,
   "id": "a8b057f7",
   "metadata": {},
   "outputs": [],
   "source": [
    "default_df = train_df[train_df['credit_card_default'] == 1]\n",
    "\n",
    "credlim_occ = default_df[['occupation_type', 'credit_limit_used(%)']].groupby(by= 'occupation_type').min().sort_values(by= 'credit_limit_used(%)',ascending= False).rename(columns= {'credit_limit_used(%)': 'occ_credlim'})\n",
    "\n",
    "credscore_occ = default_df[['occupation_type', 'credit_score']].groupby(by= 'occupation_type').max().sort_values(by= 'credit_score').rename(columns= {'credit_score': 'occ_credscore'})   "
   ]
  },
  {
   "cell_type": "code",
   "execution_count": 31,
   "id": "6733f5b3",
   "metadata": {},
   "outputs": [],
   "source": [
    "train_df = pd.merge(train_df, credlim_occ, how= 'outer', on= 'occupation_type')\n",
    "train_df = pd.merge(train_df, credscore_occ, how= 'outer', on= 'occupation_type')"
   ]
  },
  {
   "cell_type": "code",
   "execution_count": 32,
   "id": "0090f77f",
   "metadata": {},
   "outputs": [
    {
     "data": {
      "text/html": [
       "<div>\n",
       "<style scoped>\n",
       "    .dataframe tbody tr th:only-of-type {\n",
       "        vertical-align: middle;\n",
       "    }\n",
       "\n",
       "    .dataframe tbody tr th {\n",
       "        vertical-align: top;\n",
       "    }\n",
       "\n",
       "    .dataframe thead th {\n",
       "        text-align: right;\n",
       "    }\n",
       "</style>\n",
       "<table border=\"1\" class=\"dataframe\">\n",
       "  <thead>\n",
       "    <tr style=\"text-align: right;\">\n",
       "      <th></th>\n",
       "      <th>customer_id</th>\n",
       "      <th>name</th>\n",
       "      <th>age</th>\n",
       "      <th>gender</th>\n",
       "      <th>owns_car</th>\n",
       "      <th>owns_house</th>\n",
       "      <th>no_of_children</th>\n",
       "      <th>net_yearly_income</th>\n",
       "      <th>no_of_days_employed</th>\n",
       "      <th>occupation_type</th>\n",
       "      <th>total_family_members</th>\n",
       "      <th>migrant_worker</th>\n",
       "      <th>yearly_debt_payments</th>\n",
       "      <th>credit_limit</th>\n",
       "      <th>credit_limit_used(%)</th>\n",
       "      <th>credit_score</th>\n",
       "      <th>prev_defaults</th>\n",
       "      <th>default_in_last_6months</th>\n",
       "      <th>credit_card_default</th>\n",
       "      <th>occ_credlim</th>\n",
       "      <th>occ_credscore</th>\n",
       "    </tr>\n",
       "  </thead>\n",
       "  <tbody>\n",
       "    <tr>\n",
       "      <th>16256</th>\n",
       "      <td>CST_144540</td>\n",
       "      <td>Sam</td>\n",
       "      <td>37</td>\n",
       "      <td>M</td>\n",
       "      <td>N</td>\n",
       "      <td>N</td>\n",
       "      <td>0.000</td>\n",
       "      <td>98724.500</td>\n",
       "      <td>1296.000</td>\n",
       "      <td>Laborers</td>\n",
       "      <td>2.000</td>\n",
       "      <td>0.000</td>\n",
       "      <td>24303.250</td>\n",
       "      <td>12624.240</td>\n",
       "      <td>33</td>\n",
       "      <td>908.000</td>\n",
       "      <td>0</td>\n",
       "      <td>0</td>\n",
       "      <td>0</td>\n",
       "      <td>70</td>\n",
       "      <td>699.000</td>\n",
       "    </tr>\n",
       "    <tr>\n",
       "      <th>42371</th>\n",
       "      <td>CST_142468</td>\n",
       "      <td>Richard</td>\n",
       "      <td>36</td>\n",
       "      <td>M</td>\n",
       "      <td>Y</td>\n",
       "      <td>Y</td>\n",
       "      <td>0.000</td>\n",
       "      <td>184122.830</td>\n",
       "      <td>1419.000</td>\n",
       "      <td>Security staff</td>\n",
       "      <td>2.000</td>\n",
       "      <td>1.000</td>\n",
       "      <td>35713.340</td>\n",
       "      <td>20781.940</td>\n",
       "      <td>29</td>\n",
       "      <td>856.000</td>\n",
       "      <td>0</td>\n",
       "      <td>0</td>\n",
       "      <td>0</td>\n",
       "      <td>71</td>\n",
       "      <td>699.000</td>\n",
       "    </tr>\n",
       "    <tr>\n",
       "      <th>24659</th>\n",
       "      <td>CST_116396</td>\n",
       "      <td>Lawrence Hurley</td>\n",
       "      <td>23</td>\n",
       "      <td>F</td>\n",
       "      <td>N</td>\n",
       "      <td>Y</td>\n",
       "      <td>0.000</td>\n",
       "      <td>251246.290</td>\n",
       "      <td>1283.000</td>\n",
       "      <td>Core staff</td>\n",
       "      <td>1.000</td>\n",
       "      <td>0.000</td>\n",
       "      <td>25878.500</td>\n",
       "      <td>72383.220</td>\n",
       "      <td>58</td>\n",
       "      <td>783.000</td>\n",
       "      <td>0</td>\n",
       "      <td>0</td>\n",
       "      <td>0</td>\n",
       "      <td>70</td>\n",
       "      <td>699.000</td>\n",
       "    </tr>\n",
       "    <tr>\n",
       "      <th>43684</th>\n",
       "      <td>CST_151340</td>\n",
       "      <td>Blenkinsop</td>\n",
       "      <td>37</td>\n",
       "      <td>F</td>\n",
       "      <td>N</td>\n",
       "      <td>Y</td>\n",
       "      <td>1.000</td>\n",
       "      <td>115582.460</td>\n",
       "      <td>119.000</td>\n",
       "      <td>Cooking staff</td>\n",
       "      <td>3.000</td>\n",
       "      <td>0.000</td>\n",
       "      <td>34318.880</td>\n",
       "      <td>14142.470</td>\n",
       "      <td>34</td>\n",
       "      <td>782.000</td>\n",
       "      <td>0</td>\n",
       "      <td>0</td>\n",
       "      <td>0</td>\n",
       "      <td>71</td>\n",
       "      <td>697.000</td>\n",
       "    </tr>\n",
       "    <tr>\n",
       "      <th>24751</th>\n",
       "      <td>CST_120011</td>\n",
       "      <td>Elizabeth Pineau</td>\n",
       "      <td>24</td>\n",
       "      <td>M</td>\n",
       "      <td>Y</td>\n",
       "      <td>Y</td>\n",
       "      <td>0.000</td>\n",
       "      <td>244530.350</td>\n",
       "      <td>6913.000</td>\n",
       "      <td>Core staff</td>\n",
       "      <td>2.000</td>\n",
       "      <td>0.000</td>\n",
       "      <td>8790.600</td>\n",
       "      <td>32145.950</td>\n",
       "      <td>56</td>\n",
       "      <td>861.000</td>\n",
       "      <td>0</td>\n",
       "      <td>0</td>\n",
       "      <td>0</td>\n",
       "      <td>70</td>\n",
       "      <td>699.000</td>\n",
       "    </tr>\n",
       "  </tbody>\n",
       "</table>\n",
       "</div>"
      ],
      "text/plain": [
       "      customer_id              name  age gender owns_car owns_house  \\\n",
       "16256  CST_144540               Sam   37      M        N          N   \n",
       "42371  CST_142468           Richard   36      M        Y          Y   \n",
       "24659  CST_116396   Lawrence Hurley   23      F        N          Y   \n",
       "43684  CST_151340        Blenkinsop   37      F        N          Y   \n",
       "24751  CST_120011  Elizabeth Pineau   24      M        Y          Y   \n",
       "\n",
       "       no_of_children  net_yearly_income  no_of_days_employed occupation_type  \\\n",
       "16256           0.000          98724.500             1296.000        Laborers   \n",
       "42371           0.000         184122.830             1419.000  Security staff   \n",
       "24659           0.000         251246.290             1283.000      Core staff   \n",
       "43684           1.000         115582.460              119.000   Cooking staff   \n",
       "24751           0.000         244530.350             6913.000      Core staff   \n",
       "\n",
       "       total_family_members  migrant_worker  yearly_debt_payments  \\\n",
       "16256                 2.000           0.000             24303.250   \n",
       "42371                 2.000           1.000             35713.340   \n",
       "24659                 1.000           0.000             25878.500   \n",
       "43684                 3.000           0.000             34318.880   \n",
       "24751                 2.000           0.000              8790.600   \n",
       "\n",
       "       credit_limit  credit_limit_used(%)  credit_score  prev_defaults  \\\n",
       "16256     12624.240                    33       908.000              0   \n",
       "42371     20781.940                    29       856.000              0   \n",
       "24659     72383.220                    58       783.000              0   \n",
       "43684     14142.470                    34       782.000              0   \n",
       "24751     32145.950                    56       861.000              0   \n",
       "\n",
       "       default_in_last_6months  credit_card_default  occ_credlim  \\\n",
       "16256                        0                    0           70   \n",
       "42371                        0                    0           71   \n",
       "24659                        0                    0           70   \n",
       "43684                        0                    0           71   \n",
       "24751                        0                    0           70   \n",
       "\n",
       "       occ_credscore  \n",
       "16256        699.000  \n",
       "42371        699.000  \n",
       "24659        699.000  \n",
       "43684        697.000  \n",
       "24751        699.000  "
      ]
     },
     "execution_count": 32,
     "metadata": {},
     "output_type": "execute_result"
    }
   ],
   "source": [
    "train_df.sample(5, random_state=42)"
   ]
  },
  {
   "cell_type": "code",
   "execution_count": 33,
   "id": "a5dd7ee6",
   "metadata": {},
   "outputs": [
    {
     "name": "stdout",
     "output_type": "stream",
     "text": [
      "Minimum credit limit at which customer has defaulted is : 70\n",
      "Max credit score for which customer has defaulted is : 699.0\n"
     ]
    }
   ],
   "source": [
    "min_credlim_default = round(default_df['credit_limit_used(%)'].min(), 2)\n",
    "print(f'Minimum credit limit at which customer has defaulted is : {min_credlim_default}')\n",
    "\n",
    "max_credscore_default = round(default_df['credit_score'].max(), 2)\n",
    "print(f'Max credit score for which customer has defaulted is : {max_credscore_default}')"
   ]
  },
  {
   "cell_type": "code",
   "execution_count": 34,
   "id": "838766e5",
   "metadata": {},
   "outputs": [],
   "source": [
    "train_df['above_min_credlim_def'] = (train_df['credit_limit_used(%)']>=min_credlim_default).astype('int')\n",
    "train_df['below_min_credscore_def'] = (train_df['credit_score']<=max_credscore_default).astype('int')"
   ]
  },
  {
   "cell_type": "code",
   "execution_count": 35,
   "id": "196c2263",
   "metadata": {},
   "outputs": [],
   "source": [
    "train_df['above_min_credlim_occ'] = (train_df['credit_limit_used(%)']>=train_df['occ_credlim']).astype('int')\n",
    "train_df['below_min_credscore_occ'] = (train_df['credit_score']<=train_df['occ_credscore']).astype('int')"
   ]
  },
  {
   "cell_type": "code",
   "execution_count": 36,
   "id": "a3f1dc9a",
   "metadata": {},
   "outputs": [],
   "source": [
    "train_df['months_employed'] = train_df['no_of_days_employed'] / 30\n",
    "\n",
    "train_df['credlim_to_income'] =train_df['credit_limit'] / train_df['net_yearly_income'] \n",
    "\n",
    "train_df['debt_to_income'] = train_df['yearly_debt_payments'] / train_df['net_yearly_income']\n"
   ]
  },
  {
   "cell_type": "code",
   "execution_count": 37,
   "id": "843d03f4",
   "metadata": {},
   "outputs": [],
   "source": [
    "train_df['num_gender'] = train_df['gender'].map({'XNA':-1, 'F': 0, 'M': 1})\n",
    "\n",
    "mapper_yn = {'Y': 1, 'N': 0}\n",
    "train_df['num_car'] = train_df['owns_car'].map(mapper_yn, na_action= 'ignore')\n",
    "train_df['num_house'] = train_df['owns_house'].map(mapper_yn)"
   ]
  },
  {
   "cell_type": "code",
   "execution_count": 39,
   "id": "45f75faa",
   "metadata": {},
   "outputs": [
    {
     "data": {
      "text/plain": [
       "Index(['customer_id', 'name', 'age', 'gender', 'owns_car', 'owns_house',\n",
       "       'no_of_children', 'net_yearly_income', 'no_of_days_employed',\n",
       "       'occupation_type', 'total_family_members', 'migrant_worker',\n",
       "       'yearly_debt_payments', 'credit_limit', 'credit_limit_used(%)',\n",
       "       'credit_score', 'prev_defaults', 'default_in_last_6months',\n",
       "       'credit_card_default', 'occ_credlim', 'occ_credscore',\n",
       "       'above_min_credlim_def', 'below_min_credscore_def',\n",
       "       'above_min_credlim_occ', 'below_min_credscore_occ', 'months_employed',\n",
       "       'credlim_to_income', 'debt_to_income', 'num_gender', 'num_car',\n",
       "       'num_house'],\n",
       "      dtype='object')"
      ]
     },
     "execution_count": 39,
     "metadata": {},
     "output_type": "execute_result"
    }
   ],
   "source": [
    "train_df.columns"
   ]
  },
  {
   "cell_type": "code",
   "execution_count": 40,
   "id": "5f76c9cd",
   "metadata": {},
   "outputs": [],
   "source": [
    "cols = [\n",
    "  'age', 'num_gender', 'num_car', 'num_house',\n",
    "       'no_of_children', 'total_family_members', 'migrant_worker', \n",
    "    'prev_defaults', 'default_in_last_6months',\n",
    "    'above_min_credlim_def', 'above_min_credlim_occ', 'below_min_credscore_def', 'below_min_credscore_occ', 'months_employed',\n",
    "       'credlim_to_income', 'debt_to_income'\n",
    "]\n",
    "\n",
    "target = 'credit_card_default'"
   ]
  },
  {
   "cell_type": "code",
   "execution_count": 41,
   "id": "6feb1650",
   "metadata": {},
   "outputs": [
    {
     "name": "stdout",
     "output_type": "stream",
     "text": [
      "Number of features: 16\n"
     ]
    }
   ],
   "source": [
    "print(f'Number of features: {len(cols)}')"
   ]
  },
  {
   "cell_type": "code",
   "execution_count": 48,
   "id": "33e4e016",
   "metadata": {},
   "outputs": [],
   "source": [
    "from sklearn.feature_selection import mutual_info_classif\n",
    "\n",
    "mi = mutual_info_classif(train_df[cols], train_df[target], n_neighbors= 5, random_state= 42, discrete_features= True)\n",
    "mi_df = pd.DataFrame(mi, index= cols, columns=['mutual_info']).reset_index().sort_values(by='mutual_info', ascending= False)\n"
   ]
  },
  {
   "cell_type": "code",
   "execution_count": 50,
   "id": "2ea5b761",
   "metadata": {},
   "outputs": [
    {
     "data": {
      "text/plain": [
       "['credlim_to_income',\n",
       " 'debt_to_income',\n",
       " 'prev_defaults',\n",
       " 'default_in_last_6months',\n",
       " 'below_min_credscore_occ',\n",
       " 'below_min_credscore_def',\n",
       " 'above_min_credlim_occ',\n",
       " 'above_min_credlim_def',\n",
       " 'months_employed',\n",
       " 'num_gender',\n",
       " 'migrant_worker',\n",
       " 'no_of_children',\n",
       " 'total_family_members',\n",
       " 'age',\n",
       " 'num_car',\n",
       " 'num_house']"
      ]
     },
     "execution_count": 50,
     "metadata": {},
     "output_type": "execute_result"
    }
   ],
   "source": [
    "mi_df[mi_df['mutual_info'] >0]['index'].to_list()"
   ]
  },
  {
   "cell_type": "code",
   "execution_count": null,
   "id": "7d8d1438",
   "metadata": {},
   "outputs": [],
   "source": []
  }
 ],
 "metadata": {
  "kernelspec": {
   "display_name": "Python [conda env:ml] *",
   "language": "python",
   "name": "conda-env-ml-py"
  },
  "language_info": {
   "codemirror_mode": {
    "name": "ipython",
    "version": 3
   },
   "file_extension": ".py",
   "mimetype": "text/x-python",
   "name": "python",
   "nbconvert_exporter": "python",
   "pygments_lexer": "ipython3",
   "version": "3.8.11"
  }
 },
 "nbformat": 4,
 "nbformat_minor": 5
}
