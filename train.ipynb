{
 "cells": [
  {
   "cell_type": "code",
   "execution_count": 1,
   "id": "2a1e17e1",
   "metadata": {},
   "outputs": [],
   "source": [
    "import os\n",
    "\n",
    "import pandas as pd\n",
    "pd.set_option('display.max_columns', None)\n",
    "pd.set_option(\"display.float_format\", lambda x: f'{x:.4f}')\n",
    "\n",
    "import warnings\n",
    "warnings.filterwarnings(\"ignore\")\n",
    "\n",
    "import numpy as np"
   ]
  },
  {
   "cell_type": "code",
   "execution_count": 2,
   "id": "d33604eb",
   "metadata": {},
   "outputs": [],
   "source": [
    "def std_col_names(df):\n",
    "    \"\"\"\n",
    "    - Convert feature names to lower case\n",
    "    \"\"\"\n",
    "    df.columns = df.columns.str.lower().str.strip().str.replace(' ', '_')\n",
    "    return df\n"
   ]
  },
  {
   "cell_type": "code",
   "execution_count": 3,
   "id": "b67f139a",
   "metadata": {},
   "outputs": [
    {
     "data": {
      "text/html": [
       "<div>\n",
       "<style scoped>\n",
       "    .dataframe tbody tr th:only-of-type {\n",
       "        vertical-align: middle;\n",
       "    }\n",
       "\n",
       "    .dataframe tbody tr th {\n",
       "        vertical-align: top;\n",
       "    }\n",
       "\n",
       "    .dataframe thead th {\n",
       "        text-align: right;\n",
       "    }\n",
       "</style>\n",
       "<table border=\"1\" class=\"dataframe\">\n",
       "  <thead>\n",
       "    <tr style=\"text-align: right;\">\n",
       "      <th></th>\n",
       "      <th>customer_id</th>\n",
       "      <th>name</th>\n",
       "      <th>age</th>\n",
       "      <th>gender</th>\n",
       "      <th>owns_car</th>\n",
       "      <th>owns_house</th>\n",
       "      <th>no_of_children</th>\n",
       "      <th>net_yearly_income</th>\n",
       "      <th>no_of_days_employed</th>\n",
       "      <th>occupation_type</th>\n",
       "      <th>total_family_members</th>\n",
       "      <th>migrant_worker</th>\n",
       "      <th>yearly_debt_payments</th>\n",
       "      <th>credit_limit</th>\n",
       "      <th>credit_limit_used(%)</th>\n",
       "      <th>credit_score</th>\n",
       "      <th>prev_defaults</th>\n",
       "      <th>default_in_last_6months</th>\n",
       "      <th>credit_card_default</th>\n",
       "    </tr>\n",
       "  </thead>\n",
       "  <tbody>\n",
       "    <tr>\n",
       "      <th>0</th>\n",
       "      <td>CST_115179</td>\n",
       "      <td>ita Bose</td>\n",
       "      <td>46</td>\n",
       "      <td>F</td>\n",
       "      <td>N</td>\n",
       "      <td>Y</td>\n",
       "      <td>0.0000</td>\n",
       "      <td>107934.0400</td>\n",
       "      <td>612.0000</td>\n",
       "      <td>Unknown</td>\n",
       "      <td>1.0000</td>\n",
       "      <td>1.0000</td>\n",
       "      <td>33070.2800</td>\n",
       "      <td>18690.9300</td>\n",
       "      <td>73</td>\n",
       "      <td>544.0000</td>\n",
       "      <td>2</td>\n",
       "      <td>1</td>\n",
       "      <td>1</td>\n",
       "    </tr>\n",
       "    <tr>\n",
       "      <th>1</th>\n",
       "      <td>CST_121920</td>\n",
       "      <td>Alper Jonathan</td>\n",
       "      <td>29</td>\n",
       "      <td>M</td>\n",
       "      <td>N</td>\n",
       "      <td>Y</td>\n",
       "      <td>0.0000</td>\n",
       "      <td>109862.6200</td>\n",
       "      <td>2771.0000</td>\n",
       "      <td>Laborers</td>\n",
       "      <td>2.0000</td>\n",
       "      <td>0.0000</td>\n",
       "      <td>15329.5300</td>\n",
       "      <td>37745.1900</td>\n",
       "      <td>52</td>\n",
       "      <td>857.0000</td>\n",
       "      <td>0</td>\n",
       "      <td>0</td>\n",
       "      <td>0</td>\n",
       "    </tr>\n",
       "    <tr>\n",
       "      <th>2</th>\n",
       "      <td>CST_109330</td>\n",
       "      <td>Umesh Desai</td>\n",
       "      <td>37</td>\n",
       "      <td>M</td>\n",
       "      <td>N</td>\n",
       "      <td>Y</td>\n",
       "      <td>0.0000</td>\n",
       "      <td>230153.1700</td>\n",
       "      <td>204.0000</td>\n",
       "      <td>Laborers</td>\n",
       "      <td>2.0000</td>\n",
       "      <td>0.0000</td>\n",
       "      <td>48416.6000</td>\n",
       "      <td>41598.3600</td>\n",
       "      <td>43</td>\n",
       "      <td>650.0000</td>\n",
       "      <td>0</td>\n",
       "      <td>0</td>\n",
       "      <td>0</td>\n",
       "    </tr>\n",
       "    <tr>\n",
       "      <th>3</th>\n",
       "      <td>CST_128288</td>\n",
       "      <td>Rie</td>\n",
       "      <td>39</td>\n",
       "      <td>F</td>\n",
       "      <td>N</td>\n",
       "      <td>Y</td>\n",
       "      <td>0.0000</td>\n",
       "      <td>122325.8200</td>\n",
       "      <td>11941.0000</td>\n",
       "      <td>Core staff</td>\n",
       "      <td>2.0000</td>\n",
       "      <td>0.0000</td>\n",
       "      <td>22574.3600</td>\n",
       "      <td>32627.7600</td>\n",
       "      <td>20</td>\n",
       "      <td>754.0000</td>\n",
       "      <td>0</td>\n",
       "      <td>0</td>\n",
       "      <td>0</td>\n",
       "    </tr>\n",
       "    <tr>\n",
       "      <th>4</th>\n",
       "      <td>CST_151355</td>\n",
       "      <td>McCool</td>\n",
       "      <td>46</td>\n",
       "      <td>M</td>\n",
       "      <td>Y</td>\n",
       "      <td>Y</td>\n",
       "      <td>0.0000</td>\n",
       "      <td>387286.0000</td>\n",
       "      <td>1459.0000</td>\n",
       "      <td>Core staff</td>\n",
       "      <td>1.0000</td>\n",
       "      <td>0.0000</td>\n",
       "      <td>38282.9500</td>\n",
       "      <td>52950.6400</td>\n",
       "      <td>75</td>\n",
       "      <td>927.0000</td>\n",
       "      <td>0</td>\n",
       "      <td>0</td>\n",
       "      <td>0</td>\n",
       "    </tr>\n",
       "  </tbody>\n",
       "</table>\n",
       "</div>"
      ],
      "text/plain": [
       "  customer_id            name  age gender owns_car owns_house  no_of_children  \\\n",
       "0  CST_115179        ita Bose   46      F        N          Y          0.0000   \n",
       "1  CST_121920  Alper Jonathan   29      M        N          Y          0.0000   \n",
       "2  CST_109330     Umesh Desai   37      M        N          Y          0.0000   \n",
       "3  CST_128288             Rie   39      F        N          Y          0.0000   \n",
       "4  CST_151355          McCool   46      M        Y          Y          0.0000   \n",
       "\n",
       "   net_yearly_income  no_of_days_employed occupation_type  \\\n",
       "0        107934.0400             612.0000         Unknown   \n",
       "1        109862.6200            2771.0000        Laborers   \n",
       "2        230153.1700             204.0000        Laborers   \n",
       "3        122325.8200           11941.0000      Core staff   \n",
       "4        387286.0000            1459.0000      Core staff   \n",
       "\n",
       "   total_family_members  migrant_worker  yearly_debt_payments  credit_limit  \\\n",
       "0                1.0000          1.0000            33070.2800    18690.9300   \n",
       "1                2.0000          0.0000            15329.5300    37745.1900   \n",
       "2                2.0000          0.0000            48416.6000    41598.3600   \n",
       "3                2.0000          0.0000            22574.3600    32627.7600   \n",
       "4                1.0000          0.0000            38282.9500    52950.6400   \n",
       "\n",
       "   credit_limit_used(%)  credit_score  prev_defaults  default_in_last_6months  \\\n",
       "0                    73      544.0000              2                        1   \n",
       "1                    52      857.0000              0                        0   \n",
       "2                    43      650.0000              0                        0   \n",
       "3                    20      754.0000              0                        0   \n",
       "4                    75      927.0000              0                        0   \n",
       "\n",
       "   credit_card_default  \n",
       "0                    1  \n",
       "1                    0  \n",
       "2                    0  \n",
       "3                    0  \n",
       "4                    0  "
      ]
     },
     "execution_count": 3,
     "metadata": {},
     "output_type": "execute_result"
    }
   ],
   "source": [
    "# Load DF\n",
    "df = std_col_names(pd.read_csv('./data/train.csv'))\n",
    "df.head(5)"
   ]
  },
  {
   "cell_type": "markdown",
   "id": "a9fc1379",
   "metadata": {},
   "source": [
    "Number of missing values for each feature: \n",
    "\n",
    "    owns_car                547  \n",
    "    no_of_children          774    \n",
    "    no_of_days_employed     463  \n",
    "    total_family_members     83  \n",
    "    migrant_worker           87  \n",
    "    yearly_debt_payments     95  \n",
    "    credit_score              8  \n",
    "    dtype: int64"
   ]
  },
  {
   "cell_type": "code",
   "execution_count": 4,
   "id": "df7cb56a",
   "metadata": {},
   "outputs": [],
   "source": [
    "train_df = df.copy()"
   ]
  },
  {
   "cell_type": "code",
   "execution_count": 46,
   "id": "eef86a8a",
   "metadata": {},
   "outputs": [
    {
     "data": {
      "text/plain": [
       "Index(['customer_id', 'name', 'age', 'gender', 'owns_car', 'owns_house',\n",
       "       'no_of_children', 'net_yearly_income', 'no_of_days_employed',\n",
       "       'occupation_type', 'total_family_members', 'migrant_worker',\n",
       "       'yearly_debt_payments', 'credit_limit', 'credit_limit_used(%)',\n",
       "       'credit_score', 'prev_defaults', 'default_in_last_6months',\n",
       "       'credit_card_default'],\n",
       "      dtype='object')"
      ]
     },
     "execution_count": 46,
     "metadata": {},
     "output_type": "execute_result"
    }
   ],
   "source": [
    "df.columns"
   ]
  },
  {
   "cell_type": "code",
   "execution_count": 5,
   "id": "6217802a",
   "metadata": {},
   "outputs": [],
   "source": [
    "train_df['owns_car'].fillna(\"N\", inplace= True)\n",
    "train_df.fillna(0, inplace= True)"
   ]
  },
  {
   "cell_type": "code",
   "execution_count": 6,
   "id": "98f9aaa7",
   "metadata": {},
   "outputs": [],
   "source": [
    "no_null_check = train_df.columns[train_df.isnull().any()].to_list() == []\n",
    "assert no_null_check == True"
   ]
  },
  {
   "cell_type": "code",
   "execution_count": 7,
   "id": "a8b057f7",
   "metadata": {},
   "outputs": [],
   "source": [
    "default_df = train_df[train_df['credit_card_default'] == 1]\n",
    "\n",
    "credlim_occ = default_df[['occupation_type', 'credit_limit_used(%)']].groupby(by= 'occupation_type').min().sort_values(by= 'credit_limit_used(%)',ascending= False).rename(columns= {'credit_limit_used(%)': 'occ_credlim'})\n",
    "\n",
    "credscore_occ = default_df[['occupation_type', 'credit_score']].groupby(by= 'occupation_type').max().sort_values(by= 'credit_score').rename(columns= {'credit_score': 'occ_credscore'})   "
   ]
  },
  {
   "cell_type": "code",
   "execution_count": 8,
   "id": "6733f5b3",
   "metadata": {},
   "outputs": [],
   "source": [
    "train_df = pd.merge(train_df, credlim_occ, how= 'outer', on= 'occupation_type')\n",
    "train_df = pd.merge(train_df, credscore_occ, how= 'outer', on= 'occupation_type')"
   ]
  },
  {
   "cell_type": "code",
   "execution_count": 9,
   "id": "a5dd7ee6",
   "metadata": {},
   "outputs": [
    {
     "name": "stdout",
     "output_type": "stream",
     "text": [
      "Minimum credit limit at which customer has defaulted is : 70\n",
      "Max credit score for which customer has defaulted is : 699.0\n"
     ]
    }
   ],
   "source": [
    "min_credlim_default = round(default_df['credit_limit_used(%)'].min(), 2)\n",
    "print(f'Minimum credit limit at which customer has defaulted is : {min_credlim_default}')\n",
    "\n",
    "max_credscore_default = round(default_df['credit_score'].max(), 2)\n",
    "print(f'Max credit score for which customer has defaulted is : {max_credscore_default}')"
   ]
  },
  {
   "cell_type": "code",
   "execution_count": 10,
   "id": "838766e5",
   "metadata": {},
   "outputs": [],
   "source": [
    "train_df['above_min_credlim_def'] = (train_df['credit_limit_used(%)']>=min_credlim_default).astype('int')\n",
    "train_df['below_min_credscore_def'] = (train_df['credit_score']<=max_credscore_default).astype('int')"
   ]
  },
  {
   "cell_type": "code",
   "execution_count": 11,
   "id": "196c2263",
   "metadata": {},
   "outputs": [],
   "source": [
    "train_df['above_min_credlim_occ'] = (train_df['credit_limit_used(%)']>=train_df['occ_credlim']).astype('int')\n",
    "train_df['below_min_credscore_occ'] = (train_df['credit_score']<=train_df['occ_credscore']).astype('int')"
   ]
  },
  {
   "cell_type": "code",
   "execution_count": 12,
   "id": "a3f1dc9a",
   "metadata": {},
   "outputs": [],
   "source": [
    "train_df['months_employed'] = train_df['no_of_days_employed'] / 30\n",
    "\n",
    "train_df['credlim_to_income'] =train_df['credit_limit'] / train_df['net_yearly_income'] \n",
    "\n",
    "train_df['debt_to_income'] = train_df['yearly_debt_payments'] / train_df['net_yearly_income']\n"
   ]
  },
  {
   "cell_type": "code",
   "execution_count": 13,
   "id": "843d03f4",
   "metadata": {},
   "outputs": [],
   "source": [
    "train_df['num_gender'] = train_df['gender'].map({'XNA':-1, 'F': 0, 'M': 1})\n",
    "\n",
    "mapper_yn = {'Y': 1, 'N': 0}\n",
    "train_df['num_car'] = train_df['owns_car'].map(mapper_yn, na_action= 'ignore')\n",
    "train_df['num_house'] = train_df['owns_house'].map(mapper_yn)"
   ]
  },
  {
   "cell_type": "code",
   "execution_count": 14,
   "id": "5f76c9cd",
   "metadata": {},
   "outputs": [],
   "source": [
    "cols = [\n",
    "  'age', 'num_gender', 'num_car', 'num_house',\n",
    "       'no_of_children', 'total_family_members', 'migrant_worker', \n",
    "    'prev_defaults', 'default_in_last_6months',\n",
    "    'above_min_credlim_def', 'above_min_credlim_occ', 'below_min_credscore_def', 'below_min_credscore_occ', 'months_employed',\n",
    "       'credlim_to_income', 'debt_to_income', 'credit_limit', 'yearly_debt_payments'\n",
    "]\n",
    "\n",
    "target = 'credit_card_default'"
   ]
  },
  {
   "cell_type": "code",
   "execution_count": 15,
   "id": "6feb1650",
   "metadata": {},
   "outputs": [
    {
     "name": "stdout",
     "output_type": "stream",
     "text": [
      "Number of features: 18\n"
     ]
    }
   ],
   "source": [
    "print(f'Number of features: {len(cols)}')"
   ]
  },
  {
   "cell_type": "code",
   "execution_count": 16,
   "id": "33e4e016",
   "metadata": {},
   "outputs": [],
   "source": [
    "from sklearn.feature_selection import mutual_info_classif\n",
    "\n",
    "mi = mutual_info_classif(train_df[cols], train_df[target], n_neighbors= 5, random_state= 42, discrete_features= True)\n",
    "mi_df = pd.DataFrame(mi, index= cols, columns=['mutual_info']).reset_index().sort_values(by='mutual_info', ascending= False)\n"
   ]
  },
  {
   "cell_type": "code",
   "execution_count": 17,
   "id": "d7237f77",
   "metadata": {},
   "outputs": [
    {
     "data": {
      "text/html": [
       "<div>\n",
       "<style scoped>\n",
       "    .dataframe tbody tr th:only-of-type {\n",
       "        vertical-align: middle;\n",
       "    }\n",
       "\n",
       "    .dataframe tbody tr th {\n",
       "        vertical-align: top;\n",
       "    }\n",
       "\n",
       "    .dataframe thead th {\n",
       "        text-align: right;\n",
       "    }\n",
       "</style>\n",
       "<table border=\"1\" class=\"dataframe\">\n",
       "  <thead>\n",
       "    <tr style=\"text-align: right;\">\n",
       "      <th></th>\n",
       "      <th>index</th>\n",
       "      <th>mutual_info</th>\n",
       "    </tr>\n",
       "  </thead>\n",
       "  <tbody>\n",
       "    <tr>\n",
       "      <th>14</th>\n",
       "      <td>credlim_to_income</td>\n",
       "      <td>0.2817</td>\n",
       "    </tr>\n",
       "    <tr>\n",
       "      <th>15</th>\n",
       "      <td>debt_to_income</td>\n",
       "      <td>0.2811</td>\n",
       "    </tr>\n",
       "    <tr>\n",
       "      <th>16</th>\n",
       "      <td>credit_limit</td>\n",
       "      <td>0.2810</td>\n",
       "    </tr>\n",
       "    <tr>\n",
       "      <th>17</th>\n",
       "      <td>yearly_debt_payments</td>\n",
       "      <td>0.2801</td>\n",
       "    </tr>\n",
       "    <tr>\n",
       "      <th>7</th>\n",
       "      <td>prev_defaults</td>\n",
       "      <td>0.1591</td>\n",
       "    </tr>\n",
       "    <tr>\n",
       "      <th>8</th>\n",
       "      <td>default_in_last_6months</td>\n",
       "      <td>0.1463</td>\n",
       "    </tr>\n",
       "    <tr>\n",
       "      <th>12</th>\n",
       "      <td>below_min_credscore_occ</td>\n",
       "      <td>0.1305</td>\n",
       "    </tr>\n",
       "    <tr>\n",
       "      <th>11</th>\n",
       "      <td>below_min_credscore_def</td>\n",
       "      <td>0.1297</td>\n",
       "    </tr>\n",
       "    <tr>\n",
       "      <th>10</th>\n",
       "      <td>above_min_credlim_occ</td>\n",
       "      <td>0.0908</td>\n",
       "    </tr>\n",
       "    <tr>\n",
       "      <th>9</th>\n",
       "      <td>above_min_credlim_def</td>\n",
       "      <td>0.0907</td>\n",
       "    </tr>\n",
       "    <tr>\n",
       "      <th>13</th>\n",
       "      <td>months_employed</td>\n",
       "      <td>0.0674</td>\n",
       "    </tr>\n",
       "    <tr>\n",
       "      <th>1</th>\n",
       "      <td>num_gender</td>\n",
       "      <td>0.0016</td>\n",
       "    </tr>\n",
       "    <tr>\n",
       "      <th>6</th>\n",
       "      <td>migrant_worker</td>\n",
       "      <td>0.0005</td>\n",
       "    </tr>\n",
       "    <tr>\n",
       "      <th>4</th>\n",
       "      <td>no_of_children</td>\n",
       "      <td>0.0005</td>\n",
       "    </tr>\n",
       "    <tr>\n",
       "      <th>5</th>\n",
       "      <td>total_family_members</td>\n",
       "      <td>0.0004</td>\n",
       "    </tr>\n",
       "    <tr>\n",
       "      <th>0</th>\n",
       "      <td>age</td>\n",
       "      <td>0.0003</td>\n",
       "    </tr>\n",
       "    <tr>\n",
       "      <th>2</th>\n",
       "      <td>num_car</td>\n",
       "      <td>0.0001</td>\n",
       "    </tr>\n",
       "    <tr>\n",
       "      <th>3</th>\n",
       "      <td>num_house</td>\n",
       "      <td>0.0000</td>\n",
       "    </tr>\n",
       "  </tbody>\n",
       "</table>\n",
       "</div>"
      ],
      "text/plain": [
       "                      index  mutual_info\n",
       "14        credlim_to_income       0.2817\n",
       "15           debt_to_income       0.2811\n",
       "16             credit_limit       0.2810\n",
       "17     yearly_debt_payments       0.2801\n",
       "7             prev_defaults       0.1591\n",
       "8   default_in_last_6months       0.1463\n",
       "12  below_min_credscore_occ       0.1305\n",
       "11  below_min_credscore_def       0.1297\n",
       "10    above_min_credlim_occ       0.0908\n",
       "9     above_min_credlim_def       0.0907\n",
       "13          months_employed       0.0674\n",
       "1                num_gender       0.0016\n",
       "6            migrant_worker       0.0005\n",
       "4            no_of_children       0.0005\n",
       "5      total_family_members       0.0004\n",
       "0                       age       0.0003\n",
       "2                   num_car       0.0001\n",
       "3                 num_house       0.0000"
      ]
     },
     "execution_count": 17,
     "metadata": {},
     "output_type": "execute_result"
    }
   ],
   "source": [
    "mi_df"
   ]
  },
  {
   "cell_type": "code",
   "execution_count": 18,
   "id": "2ea5b761",
   "metadata": {},
   "outputs": [
    {
     "data": {
      "text/plain": [
       "['credlim_to_income',\n",
       " 'debt_to_income',\n",
       " 'credit_limit',\n",
       " 'yearly_debt_payments',\n",
       " 'prev_defaults',\n",
       " 'default_in_last_6months',\n",
       " 'below_min_credscore_occ',\n",
       " 'below_min_credscore_def',\n",
       " 'above_min_credlim_occ',\n",
       " 'above_min_credlim_def',\n",
       " 'months_employed']"
      ]
     },
     "execution_count": 18,
     "metadata": {},
     "output_type": "execute_result"
    }
   ],
   "source": [
    "fin_cols= mi_df[mi_df['mutual_info'] >0.05]['index'].to_list()\n",
    "fin_cols"
   ]
  },
  {
   "cell_type": "code",
   "execution_count": 19,
   "id": "25a51ad2",
   "metadata": {},
   "outputs": [],
   "source": [
    "import imblearn\n",
    "from imblearn.over_sampling import SMOTE\n",
    "from imblearn.under_sampling import RandomUnderSampler\n",
    "from sklearn.feature_extraction import DictVectorizer"
   ]
  },
  {
   "cell_type": "code",
   "execution_count": 20,
   "id": "6836ff5c",
   "metadata": {},
   "outputs": [],
   "source": [
    "over = SMOTE(random_state= 42, sampling_strategy=0.25)\n",
    "x_over, y_over = over.fit_resample(train_df[cols], train_df['credit_card_default'])\n",
    "\n",
    "under = RandomUnderSampler(random_state= 42, sampling_strategy= 0.5)\n",
    "x_ou, y_ou = under.fit_resample(x_over, y_over)"
   ]
  },
  {
   "cell_type": "markdown",
   "id": "42bbb64a",
   "metadata": {},
   "source": [
    "## Modelling"
   ]
  },
  {
   "cell_type": "code",
   "execution_count": 21,
   "id": "f5d29c10",
   "metadata": {},
   "outputs": [],
   "source": [
    "import xgboost as xgb\n",
    "from sklearn.model_selection import RandomizedSearchCV"
   ]
  },
  {
   "cell_type": "code",
   "execution_count": 22,
   "id": "28c3c362",
   "metadata": {},
   "outputs": [],
   "source": [
    "train_dict = x_ou.to_dict(orient= 'records')\n",
    "dv = DictVectorizer(sparse= False)\n",
    "train_dv = dv.fit_transform(train_dict)\n",
    "dtrain = xgb.DMatrix(train_dv, y_ou)\n"
   ]
  },
  {
   "cell_type": "code",
   "execution_count": 23,
   "id": "bfd5e9a8",
   "metadata": {},
   "outputs": [],
   "source": [
    "xgb_cv_params = {\n",
    "    'max_depth': [4,5,6,7,8], \n",
    "    'min_child_weight': [0,1,2,3,4],\n",
    "    'subsample': [0.75, 0.8,0.9,1], \n",
    "    'max_delta_step': [0,2, 4, 6, 8, 10],\n",
    "    'learning_rate': [0.05, 0.1, 0.25, 0.3, 0.4, 0.5, 0.75],\n",
    "    'n_estimators' : [75, 100, 150, 200],\n",
    "    'alpha': [0, 1, 2, 3, 4, 5],\n",
    "    'lambda': [0, 1, 2, 3, 4, 5],\n",
    "    'gamma': [0, 0.5, 1, 2],\n",
    "    'sample_type': ['uniform', 'weighted'],\n",
    "    'rate_drop': [0, 0.25, .5, .7, 1],\n",
    "    'one_drop': [0, 1],\n",
    "    'skip_drop': [0, 0.25, .5, .7, 1]\n",
    "}   \n",
    "\n",
    "# Parameters fixed\n",
    "fix_params = {'objective': 'binary:logistic', 'eval_metric': 'auc', 'use_label_encoder': False, 'tree_method': 'gpu_hist', 'scale_pos_weight': 2, 'booster': 'dart'}  \n",
    "\n",
    "# Create RandomizedSearchCV object\n",
    "csv = RandomizedSearchCV(xgb.XGBClassifier(**fix_params), xgb_cv_params, scoring = 'f1_macro', cv = 5, verbose=1, n_jobs= -1, n_iter=30, random_state=42)"
   ]
  },
  {
   "cell_type": "code",
   "execution_count": 24,
   "id": "1f4a10d1",
   "metadata": {},
   "outputs": [],
   "source": [
    "# %%timeit\n",
    "# # csv.fit(x_ou, y_ou)\n",
    "# csv.fit(train_dv, y_ou)"
   ]
  },
  {
   "cell_type": "code",
   "execution_count": 25,
   "id": "83771a01",
   "metadata": {},
   "outputs": [],
   "source": [
    "fin_cols_params = {'subsample': 0.75,\n",
    " 'skip_drop': 0,\n",
    " 'sample_type': 'weighted',\n",
    " 'rate_drop': 0,\n",
    " 'one_drop': 0,\n",
    " 'n_estimators': 75,\n",
    " 'min_child_weight': 3,\n",
    " 'max_depth': 5,\n",
    " 'max_delta_step': 8,\n",
    " 'learning_rate': 0.5,\n",
    " 'lambda': 3,\n",
    " 'gamma': 1,\n",
    " 'alpha': 3}"
   ]
  },
  {
   "cell_type": "code",
   "execution_count": 26,
   "id": "b692c194",
   "metadata": {},
   "outputs": [
    {
     "name": "stdout",
     "output_type": "stream",
     "text": [
      "[23:01:22] WARNING: ../src/learner.cc:576: \n",
      "Parameters: { \"n_estimators\", \"one_drop\", \"rate_drop\", \"sample_type\", \"skip_drop\" } might not be used.\n",
      "\n",
      "  This could be a false alarm, with some parameters getting used by language bindings but\n",
      "  then being mistakenly passed down to XGBoost core, or some parameter actually being used\n",
      "  but getting flagged wrongly here. Please open an issue if you find any such cases.\n",
      "\n",
      "\n"
     ]
    }
   ],
   "source": [
    "# Train model on entire set\n",
    "fin_xgb = xgb.train(fin_cols_params, dtrain, num_boost_round = 200)"
   ]
  },
  {
   "cell_type": "markdown",
   "id": "a90576a4",
   "metadata": {},
   "source": [
    "## Predicting on test set"
   ]
  },
  {
   "cell_type": "code",
   "execution_count": 27,
   "id": "34a1bf1d",
   "metadata": {},
   "outputs": [
    {
     "data": {
      "text/html": [
       "<div>\n",
       "<style scoped>\n",
       "    .dataframe tbody tr th:only-of-type {\n",
       "        vertical-align: middle;\n",
       "    }\n",
       "\n",
       "    .dataframe tbody tr th {\n",
       "        vertical-align: top;\n",
       "    }\n",
       "\n",
       "    .dataframe thead th {\n",
       "        text-align: right;\n",
       "    }\n",
       "</style>\n",
       "<table border=\"1\" class=\"dataframe\">\n",
       "  <thead>\n",
       "    <tr style=\"text-align: right;\">\n",
       "      <th></th>\n",
       "      <th>customer_id</th>\n",
       "      <th>name</th>\n",
       "      <th>age</th>\n",
       "      <th>gender</th>\n",
       "      <th>owns_car</th>\n",
       "      <th>owns_house</th>\n",
       "      <th>no_of_children</th>\n",
       "      <th>net_yearly_income</th>\n",
       "      <th>no_of_days_employed</th>\n",
       "      <th>occupation_type</th>\n",
       "      <th>total_family_members</th>\n",
       "      <th>migrant_worker</th>\n",
       "      <th>yearly_debt_payments</th>\n",
       "      <th>credit_limit</th>\n",
       "      <th>credit_limit_used(%)</th>\n",
       "      <th>credit_score</th>\n",
       "      <th>prev_defaults</th>\n",
       "      <th>default_in_last_6months</th>\n",
       "    </tr>\n",
       "  </thead>\n",
       "  <tbody>\n",
       "    <tr>\n",
       "      <th>0</th>\n",
       "      <td>CST_142525</td>\n",
       "      <td>Siva</td>\n",
       "      <td>52</td>\n",
       "      <td>F</td>\n",
       "      <td>Y</td>\n",
       "      <td>N</td>\n",
       "      <td>0.0000</td>\n",
       "      <td>232640.5300</td>\n",
       "      <td>998.0000</td>\n",
       "      <td>Unknown</td>\n",
       "      <td>2.0000</td>\n",
       "      <td>0.0000</td>\n",
       "      <td>14406.7300</td>\n",
       "      <td>26524.4000</td>\n",
       "      <td>4</td>\n",
       "      <td>779.0000</td>\n",
       "      <td>0</td>\n",
       "      <td>0</td>\n",
       "    </tr>\n",
       "    <tr>\n",
       "      <th>1</th>\n",
       "      <td>CST_129215</td>\n",
       "      <td>Scott</td>\n",
       "      <td>48</td>\n",
       "      <td>F</td>\n",
       "      <td>N</td>\n",
       "      <td>N</td>\n",
       "      <td>1.0000</td>\n",
       "      <td>284396.7900</td>\n",
       "      <td>1338.0000</td>\n",
       "      <td>Unknown</td>\n",
       "      <td>3.0000</td>\n",
       "      <td>0.0000</td>\n",
       "      <td>57479.9900</td>\n",
       "      <td>68998.7200</td>\n",
       "      <td>70</td>\n",
       "      <td>806.0000</td>\n",
       "      <td>0</td>\n",
       "      <td>0</td>\n",
       "    </tr>\n",
       "    <tr>\n",
       "      <th>2</th>\n",
       "      <td>CST_138443</td>\n",
       "      <td>Victoria</td>\n",
       "      <td>50</td>\n",
       "      <td>F</td>\n",
       "      <td>N</td>\n",
       "      <td>N</td>\n",
       "      <td>1.0000</td>\n",
       "      <td>149419.2800</td>\n",
       "      <td>1210.0000</td>\n",
       "      <td>Unknown</td>\n",
       "      <td>3.0000</td>\n",
       "      <td>0.0000</td>\n",
       "      <td>21611.0100</td>\n",
       "      <td>25187.8000</td>\n",
       "      <td>71</td>\n",
       "      <td>528.0000</td>\n",
       "      <td>2</td>\n",
       "      <td>0</td>\n",
       "    </tr>\n",
       "    <tr>\n",
       "      <th>3</th>\n",
       "      <td>CST_123812</td>\n",
       "      <td>John McCrank</td>\n",
       "      <td>30</td>\n",
       "      <td>F</td>\n",
       "      <td>N</td>\n",
       "      <td>N</td>\n",
       "      <td>1.0000</td>\n",
       "      <td>160437.5400</td>\n",
       "      <td>503.0000</td>\n",
       "      <td>Laborers</td>\n",
       "      <td>2.0000</td>\n",
       "      <td>1.0000</td>\n",
       "      <td>28990.7600</td>\n",
       "      <td>29179.3900</td>\n",
       "      <td>9</td>\n",
       "      <td>815.0000</td>\n",
       "      <td>0</td>\n",
       "      <td>0</td>\n",
       "    </tr>\n",
       "    <tr>\n",
       "      <th>4</th>\n",
       "      <td>CST_144450</td>\n",
       "      <td>Martinne</td>\n",
       "      <td>52</td>\n",
       "      <td>M</td>\n",
       "      <td>N</td>\n",
       "      <td>Y</td>\n",
       "      <td>0.0000</td>\n",
       "      <td>233480.3700</td>\n",
       "      <td>157.0000</td>\n",
       "      <td>Laborers</td>\n",
       "      <td>2.0000</td>\n",
       "      <td>1.0000</td>\n",
       "      <td>54213.7200</td>\n",
       "      <td>82331.8200</td>\n",
       "      <td>82</td>\n",
       "      <td>613.0000</td>\n",
       "      <td>1</td>\n",
       "      <td>1</td>\n",
       "    </tr>\n",
       "  </tbody>\n",
       "</table>\n",
       "</div>"
      ],
      "text/plain": [
       "  customer_id          name  age gender owns_car owns_house  no_of_children  \\\n",
       "0  CST_142525          Siva   52      F        Y          N          0.0000   \n",
       "1  CST_129215         Scott   48      F        N          N          1.0000   \n",
       "2  CST_138443      Victoria   50      F        N          N          1.0000   \n",
       "3  CST_123812  John McCrank   30      F        N          N          1.0000   \n",
       "4  CST_144450      Martinne   52      M        N          Y          0.0000   \n",
       "\n",
       "   net_yearly_income  no_of_days_employed occupation_type  \\\n",
       "0        232640.5300             998.0000         Unknown   \n",
       "1        284396.7900            1338.0000         Unknown   \n",
       "2        149419.2800            1210.0000         Unknown   \n",
       "3        160437.5400             503.0000        Laborers   \n",
       "4        233480.3700             157.0000        Laborers   \n",
       "\n",
       "   total_family_members  migrant_worker  yearly_debt_payments  credit_limit  \\\n",
       "0                2.0000          0.0000            14406.7300    26524.4000   \n",
       "1                3.0000          0.0000            57479.9900    68998.7200   \n",
       "2                3.0000          0.0000            21611.0100    25187.8000   \n",
       "3                2.0000          1.0000            28990.7600    29179.3900   \n",
       "4                2.0000          1.0000            54213.7200    82331.8200   \n",
       "\n",
       "   credit_limit_used(%)  credit_score  prev_defaults  default_in_last_6months  \n",
       "0                     4      779.0000              0                        0  \n",
       "1                    70      806.0000              0                        0  \n",
       "2                    71      528.0000              2                        0  \n",
       "3                     9      815.0000              0                        0  \n",
       "4                    82      613.0000              1                        1  "
      ]
     },
     "execution_count": 27,
     "metadata": {},
     "output_type": "execute_result"
    }
   ],
   "source": [
    "# Load DF\n",
    "test_df = std_col_names(pd.read_csv('./data/test.csv'))\n",
    "test_df.head(5)"
   ]
  },
  {
   "cell_type": "code",
   "execution_count": 28,
   "id": "16c149b3",
   "metadata": {},
   "outputs": [
    {
     "name": "stdout",
     "output_type": "stream",
     "text": [
      "Features with missing values: \n",
      "Number of missing values for each feature: \n"
     ]
    },
    {
     "data": {
      "text/plain": [
       "owns_car                132\n",
       "no_of_children          190\n",
       "no_of_days_employed     105\n",
       "total_family_members     31\n",
       "migrant_worker           26\n",
       "yearly_debt_payments     22\n",
       "credit_score              3\n",
       "dtype: int64"
      ]
     },
     "execution_count": 28,
     "metadata": {},
     "output_type": "execute_result"
    }
   ],
   "source": [
    "# Find out missing column names\n",
    "missing_cols = test_df.columns[test_df.isnull().any()].to_list()\n",
    "print('Features with missing values: ')\n",
    "missing_cols\n",
    "\n",
    "# Evaluate count of missing values\n",
    "missing_cols_count = test_df[missing_cols].isnull().sum()\n",
    "print('Number of missing values for each feature: ')\n",
    "missing_cols_count"
   ]
  },
  {
   "cell_type": "code",
   "execution_count": 29,
   "id": "381ce87e",
   "metadata": {},
   "outputs": [],
   "source": [
    "test_df['credit_score'].fillna(700, inplace= True)\n",
    "test_df['yearly_debt_payments'].fillna(train_df['yearly_debt_payments'].mean(), inplace= True)\n",
    "test_df['months_employed'] = test_df['no_of_days_employed']/30"
   ]
  },
  {
   "cell_type": "code",
   "execution_count": 30,
   "id": "202328f4",
   "metadata": {},
   "outputs": [],
   "source": [
    "test_df['credlim_to_income'] =test_df['credit_limit'] / test_df['net_yearly_income'] \n",
    "test_df['debt_to_income'] = test_df['yearly_debt_payments'] / test_df['net_yearly_income']\n"
   ]
  },
  {
   "cell_type": "code",
   "execution_count": 31,
   "id": "53889441",
   "metadata": {},
   "outputs": [],
   "source": [
    "test_df['above_min_credlim_def'] = (test_df['credit_limit_used(%)']>=min_credlim_default).astype('int')\n",
    "test_df['below_min_credscore_def'] = (test_df['credit_score']<=max_credscore_default).astype('int')\n",
    "\n"
   ]
  },
  {
   "cell_type": "code",
   "execution_count": 32,
   "id": "cb5889f6",
   "metadata": {},
   "outputs": [],
   "source": [
    "test_df = pd.merge(test_df, credlim_occ, how= 'outer', on= 'occupation_type')\n",
    "test_df = pd.merge(test_df, credscore_occ, how= 'outer', on= 'occupation_type')"
   ]
  },
  {
   "cell_type": "code",
   "execution_count": 33,
   "id": "4adbd4ac",
   "metadata": {},
   "outputs": [],
   "source": [
    "test_df['above_min_credlim_occ'] = (test_df['credit_limit_used(%)']>=test_df['occ_credlim']).astype('int')\n",
    "test_df['below_min_credscore_occ'] = (test_df['credit_score']<=test_df['occ_credscore']).astype('int')"
   ]
  },
  {
   "cell_type": "code",
   "execution_count": 34,
   "id": "41697691",
   "metadata": {},
   "outputs": [],
   "source": [
    "test_df['num_gender'] = test_df['gender'].map({'XNA':-1, 'F': 0, 'M': 1})\n",
    "\n",
    "mapper_yn = {'Y': 1, 'N': 0}\n",
    "test_df['num_car'] = test_df['owns_car'].map(mapper_yn, na_action= 'ignore')\n",
    "test_df['num_house'] = test_df['owns_house'].map(mapper_yn)"
   ]
  },
  {
   "cell_type": "code",
   "execution_count": 35,
   "id": "d0e85e0d",
   "metadata": {},
   "outputs": [],
   "source": [
    "test_df['months_employed'].fillna(train_df['months_employed'].quantile(0.5), inplace= True)"
   ]
  },
  {
   "cell_type": "code",
   "execution_count": 36,
   "id": "548c7aed",
   "metadata": {},
   "outputs": [],
   "source": [
    "test_df.fillna(0, inplace= True)"
   ]
  },
  {
   "cell_type": "code",
   "execution_count": 37,
   "id": "97150830",
   "metadata": {},
   "outputs": [
    {
     "data": {
      "text/plain": [
       "age                        0\n",
       "num_gender                 0\n",
       "num_car                    0\n",
       "num_house                  0\n",
       "no_of_children             0\n",
       "total_family_members       0\n",
       "migrant_worker             0\n",
       "prev_defaults              0\n",
       "default_in_last_6months    0\n",
       "above_min_credlim_def      0\n",
       "above_min_credlim_occ      0\n",
       "below_min_credscore_def    0\n",
       "below_min_credscore_occ    0\n",
       "months_employed            0\n",
       "credlim_to_income          0\n",
       "debt_to_income             0\n",
       "credit_limit               0\n",
       "yearly_debt_payments       0\n",
       "dtype: int64"
      ]
     },
     "execution_count": 37,
     "metadata": {},
     "output_type": "execute_result"
    }
   ],
   "source": [
    "test_df[cols].isna().sum()"
   ]
  },
  {
   "cell_type": "code",
   "execution_count": 38,
   "id": "4731df60",
   "metadata": {},
   "outputs": [],
   "source": [
    "test_dict = test_df[cols].to_dict(orient= 'records')\n",
    "test_dv = dv.transform(test_dict)"
   ]
  },
  {
   "cell_type": "code",
   "execution_count": 39,
   "id": "a411cae2",
   "metadata": {},
   "outputs": [
    {
     "data": {
      "text/plain": [
       "(11383, 18)"
      ]
     },
     "execution_count": 39,
     "metadata": {},
     "output_type": "execute_result"
    }
   ],
   "source": [
    "test_dv.shape"
   ]
  },
  {
   "cell_type": "code",
   "execution_count": 47,
   "id": "bd8152f9",
   "metadata": {},
   "outputs": [],
   "source": [
    "dtest = xgb.DMatrix(test_dv)"
   ]
  },
  {
   "cell_type": "code",
   "execution_count": 52,
   "id": "40a6f685",
   "metadata": {},
   "outputs": [],
   "source": [
    "def get_sub(arr, outfile= 'sub.csv'):\n",
    "    \"\"\"\n",
    "    Convert predicted output to a dataframe and extract to local\n",
    "    \"\"\"\n",
    "    out_df = pd.DataFrame({'customer_id': test_df['customer_id'], 'credit_card_default': arr})\n",
    "    out_df.to_csv('./subs/'+outfile, index= False)\n",
    "    return out_df"
   ]
  },
  {
   "cell_type": "code",
   "execution_count": 53,
   "id": "2210d4c6",
   "metadata": {},
   "outputs": [],
   "source": [
    "test_pred = fin_xgb.predict(dtest)"
   ]
  },
  {
   "cell_type": "code",
   "execution_count": 54,
   "id": "255c1f59",
   "metadata": {},
   "outputs": [],
   "source": [
    "thresh = 0.72\n",
    "test_pred[test_pred>thresh] = 1\n",
    "test_pred[test_pred <= thresh] = 0\n",
    "test_pred = test_pred.astype('int')"
   ]
  },
  {
   "cell_type": "code",
   "execution_count": 55,
   "id": "fc40c6d7",
   "metadata": {},
   "outputs": [
    {
     "data": {
      "text/html": [
       "<div>\n",
       "<style scoped>\n",
       "    .dataframe tbody tr th:only-of-type {\n",
       "        vertical-align: middle;\n",
       "    }\n",
       "\n",
       "    .dataframe tbody tr th {\n",
       "        vertical-align: top;\n",
       "    }\n",
       "\n",
       "    .dataframe thead th {\n",
       "        text-align: right;\n",
       "    }\n",
       "</style>\n",
       "<table border=\"1\" class=\"dataframe\">\n",
       "  <thead>\n",
       "    <tr style=\"text-align: right;\">\n",
       "      <th></th>\n",
       "      <th>customer_id</th>\n",
       "      <th>credit_card_default</th>\n",
       "    </tr>\n",
       "  </thead>\n",
       "  <tbody>\n",
       "    <tr>\n",
       "      <th>0</th>\n",
       "      <td>CST_142525</td>\n",
       "      <td>0</td>\n",
       "    </tr>\n",
       "    <tr>\n",
       "      <th>1</th>\n",
       "      <td>CST_129215</td>\n",
       "      <td>0</td>\n",
       "    </tr>\n",
       "    <tr>\n",
       "      <th>2</th>\n",
       "      <td>CST_138443</td>\n",
       "      <td>1</td>\n",
       "    </tr>\n",
       "    <tr>\n",
       "      <th>3</th>\n",
       "      <td>CST_156027</td>\n",
       "      <td>0</td>\n",
       "    </tr>\n",
       "    <tr>\n",
       "      <th>4</th>\n",
       "      <td>CST_114556</td>\n",
       "      <td>0</td>\n",
       "    </tr>\n",
       "    <tr>\n",
       "      <th>...</th>\n",
       "      <td>...</td>\n",
       "      <td>...</td>\n",
       "    </tr>\n",
       "    <tr>\n",
       "      <th>11378</th>\n",
       "      <td>CST_117188</td>\n",
       "      <td>0</td>\n",
       "    </tr>\n",
       "    <tr>\n",
       "      <th>11379</th>\n",
       "      <td>CST_120435</td>\n",
       "      <td>0</td>\n",
       "    </tr>\n",
       "    <tr>\n",
       "      <th>11380</th>\n",
       "      <td>CST_144525</td>\n",
       "      <td>0</td>\n",
       "    </tr>\n",
       "    <tr>\n",
       "      <th>11381</th>\n",
       "      <td>CST_144529</td>\n",
       "      <td>0</td>\n",
       "    </tr>\n",
       "    <tr>\n",
       "      <th>11382</th>\n",
       "      <td>CST_115693</td>\n",
       "      <td>0</td>\n",
       "    </tr>\n",
       "  </tbody>\n",
       "</table>\n",
       "<p>11383 rows × 2 columns</p>\n",
       "</div>"
      ],
      "text/plain": [
       "      customer_id  credit_card_default\n",
       "0      CST_142525                    0\n",
       "1      CST_129215                    0\n",
       "2      CST_138443                    1\n",
       "3      CST_156027                    0\n",
       "4      CST_114556                    0\n",
       "...           ...                  ...\n",
       "11378  CST_117188                    0\n",
       "11379  CST_120435                    0\n",
       "11380  CST_144525                    0\n",
       "11381  CST_144529                    0\n",
       "11382  CST_115693                    0\n",
       "\n",
       "[11383 rows x 2 columns]"
      ]
     },
     "execution_count": 55,
     "metadata": {},
     "output_type": "execute_result"
    }
   ],
   "source": [
    "get_sub(test_pred, 'colmodel_72.csv')"
   ]
  },
  {
   "cell_type": "code",
   "execution_count": null,
   "id": "393e1c1a",
   "metadata": {},
   "outputs": [],
   "source": []
  }
 ],
 "metadata": {
  "kernelspec": {
   "display_name": "Python [conda env:ml] *",
   "language": "python",
   "name": "conda-env-ml-py"
  },
  "language_info": {
   "codemirror_mode": {
    "name": "ipython",
    "version": 3
   },
   "file_extension": ".py",
   "mimetype": "text/x-python",
   "name": "python",
   "nbconvert_exporter": "python",
   "pygments_lexer": "ipython3",
   "version": "3.8.11"
  }
 },
 "nbformat": 4,
 "nbformat_minor": 5
}
